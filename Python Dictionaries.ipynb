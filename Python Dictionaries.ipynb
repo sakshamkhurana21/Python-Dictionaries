{
 "cells": [
  {
   "cell_type": "code",
   "execution_count": 5,
   "id": "d04b6e5f",
   "metadata": {},
   "outputs": [],
   "source": [
    "a={\n",
    "    \"name\":\"jatin\",\n",
    "    \"marks\":90,\n",
    "    \"subjects\":[\"eng\",\"math\"],\n",
    "    \"friends\":{\n",
    "        \"pulkit\":\"android\"\n",
    "    }\n",
    "}"
   ]
  },
  {
   "cell_type": "code",
   "execution_count": 6,
   "id": "bceaa44e",
   "metadata": {},
   "outputs": [
    {
     "name": "stdout",
     "output_type": "stream",
     "text": [
      "name\n",
      "marks\n",
      "subjects\n",
      "friends\n"
     ]
    }
   ],
   "source": [
    "for key in a:\n",
    "    print(key)"
   ]
  },
  {
   "cell_type": "markdown",
   "id": "c3bc2e72",
   "metadata": {},
   "source": [
    "Some important dict methods:\n",
    "1.get()\n",
    "2.items()\n",
    "3.keys()\n",
    "4.values()\n",
    "5.clear()"
   ]
  },
  {
   "cell_type": "code",
   "execution_count": 7,
   "id": "034f7147",
   "metadata": {},
   "outputs": [
    {
     "name": "stdout",
     "output_type": "stream",
     "text": [
      "name => jatin\n",
      "marks => 90\n",
      "subjects => ['eng', 'math']\n",
      "friends => {'pulkit': 'android'}\n"
     ]
    }
   ],
   "source": [
    "for key,value in a.items():\n",
    "    print(key,\"=>\",value)"
   ]
  },
  {
   "cell_type": "code",
   "execution_count": 8,
   "id": "81956b64",
   "metadata": {},
   "outputs": [
    {
     "name": "stdout",
     "output_type": "stream",
     "text": [
      "jatin\n",
      "90\n",
      "['eng', 'math']\n",
      "{'pulkit': 'android'}\n"
     ]
    }
   ],
   "source": [
    "for val in a.values():\n",
    "    print(val)"
   ]
  },
  {
   "cell_type": "code",
   "execution_count": 9,
   "id": "f8813cab",
   "metadata": {},
   "outputs": [
    {
     "data": {
      "text/plain": [
       "'jatin'"
      ]
     },
     "execution_count": 9,
     "metadata": {},
     "output_type": "execute_result"
    }
   ],
   "source": [
    "a[\"name\"]"
   ]
  },
  {
   "cell_type": "code",
   "execution_count": 11,
   "id": "6c123a7b",
   "metadata": {},
   "outputs": [
    {
     "data": {
      "text/plain": [
       "'jatin'"
      ]
     },
     "execution_count": 11,
     "metadata": {},
     "output_type": "execute_result"
    }
   ],
   "source": [
    "a.get(\"name\")"
   ]
  },
  {
   "cell_type": "code",
   "execution_count": 12,
   "id": "b24e0c41",
   "metadata": {},
   "outputs": [],
   "source": [
    "a.clear()"
   ]
  },
  {
   "cell_type": "code",
   "execution_count": 13,
   "id": "5f080bd1",
   "metadata": {},
   "outputs": [
    {
     "data": {
      "text/plain": [
       "{}"
      ]
     },
     "execution_count": 13,
     "metadata": {},
     "output_type": "execute_result"
    }
   ],
   "source": [
    "a"
   ]
  },
  {
   "cell_type": "markdown",
   "id": "40ca62dd",
   "metadata": {},
   "source": [
    "# Dictionary inside a List"
   ]
  },
  {
   "cell_type": "code",
   "execution_count": 14,
   "id": "32e291c6",
   "metadata": {},
   "outputs": [],
   "source": [
    "students=[]"
   ]
  },
  {
   "cell_type": "code",
   "execution_count": 15,
   "id": "4fb7cc6d",
   "metadata": {},
   "outputs": [
    {
     "name": "stdout",
     "output_type": "stream",
     "text": [
      "2\n"
     ]
    }
   ],
   "source": [
    "n=int(input())"
   ]
  },
  {
   "cell_type": "code",
   "execution_count": 16,
   "id": "30269a8c",
   "metadata": {},
   "outputs": [
    {
     "name": "stdout",
     "output_type": "stream",
     "text": [
      "1\n",
      "saksham\n",
      "IT\n",
      "2\n",
      "aryan\n",
      "CSE\n"
     ]
    }
   ],
   "source": [
    "for i in range(n):\n",
    "    roll=int(input())\n",
    "    name=input()\n",
    "    branch=input()\n",
    "    students.append({\n",
    "        \"roll-no\":roll,\n",
    "        \"name\":name,\n",
    "        \"branch\":branch\n",
    "    })\n",
    "    students"
   ]
  },
  {
   "cell_type": "code",
   "execution_count": 17,
   "id": "124a8842",
   "metadata": {},
   "outputs": [
    {
     "data": {
      "text/plain": [
       "[{'roll-no': 1, 'name': 'saksham', 'branch': 'IT'},\n",
       " {'roll-no': 2, 'name': 'aryan', 'branch': 'CSE'}]"
      ]
     },
     "execution_count": 17,
     "metadata": {},
     "output_type": "execute_result"
    }
   ],
   "source": [
    "students"
   ]
  },
  {
   "cell_type": "markdown",
   "id": "10ab0be7",
   "metadata": {},
   "source": [
    "Note: Keys in Dictionary can be any immutable DS but not any mutable DS.\n",
    "immutable DS- tuple\n",
    "muttable DS- List"
   ]
  },
  {
   "cell_type": "code",
   "execution_count": 18,
   "id": "6f951c01",
   "metadata": {},
   "outputs": [],
   "source": [
    "a={\n",
    "    (1,2):\"jatin\"\n",
    "}"
   ]
  },
  {
   "cell_type": "code",
   "execution_count": 19,
   "id": "48a5d5e5",
   "metadata": {},
   "outputs": [
    {
     "data": {
      "text/plain": [
       "'jatin'"
      ]
     },
     "execution_count": 19,
     "metadata": {},
     "output_type": "execute_result"
    }
   ],
   "source": [
    "a[(1,2)]"
   ]
  },
  {
   "cell_type": "code",
   "execution_count": 20,
   "id": "619869b2",
   "metadata": {},
   "outputs": [
    {
     "ename": "TypeError",
     "evalue": "unhashable type: 'list'",
     "output_type": "error",
     "traceback": [
      "\u001b[0;31m---------------------------------------------------------------------------\u001b[0m",
      "\u001b[0;31mTypeError\u001b[0m                                 Traceback (most recent call last)",
      "\u001b[0;32m/var/folders/v6/4ydc9j4s1vs37mhgk_1c7d780000gn/T/ipykernel_1763/3927145558.py\u001b[0m in \u001b[0;36m<module>\u001b[0;34m\u001b[0m\n\u001b[0;32m----> 1\u001b[0;31m a={\n\u001b[0m\u001b[1;32m      2\u001b[0m     \u001b[0;34m[\u001b[0m\u001b[0;36m1\u001b[0m\u001b[0;34m,\u001b[0m\u001b[0;36m2\u001b[0m\u001b[0;34m]\u001b[0m\u001b[0;34m:\u001b[0m\u001b[0;34m'jatin'\u001b[0m\u001b[0;34m\u001b[0m\u001b[0;34m\u001b[0m\u001b[0m\n\u001b[1;32m      3\u001b[0m \u001b[0;34m\u001b[0m\u001b[0m\n\u001b[1;32m      4\u001b[0m }\n",
      "\u001b[0;31mTypeError\u001b[0m: unhashable type: 'list'"
     ]
    }
   ],
   "source": [
    "a={\n",
    "    [1,2]:'jatin'\n",
    "    \n",
    "}"
   ]
  },
  {
   "cell_type": "code",
   "execution_count": null,
   "id": "0f8edf23",
   "metadata": {},
   "outputs": [],
   "source": []
  }
 ],
 "metadata": {
  "kernelspec": {
   "display_name": "Python 3 (ipykernel)",
   "language": "python",
   "name": "python3"
  },
  "language_info": {
   "codemirror_mode": {
    "name": "ipython",
    "version": 3
   },
   "file_extension": ".py",
   "mimetype": "text/x-python",
   "name": "python",
   "nbconvert_exporter": "python",
   "pygments_lexer": "ipython3",
   "version": "3.9.7"
  }
 },
 "nbformat": 4,
 "nbformat_minor": 5
}
